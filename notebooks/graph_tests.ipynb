{
 "cells": [
  {
   "cell_type": "code",
   "execution_count": 15,
   "id": "b5243ba9",
   "metadata": {},
   "outputs": [],
   "source": [
    "from itertools import product \n",
    "from collections import deque\n",
    "\n",
    "import numpy as np\n",
    "import jax.numpy as jnp\n",
    "import scipy.sparse as sparse\n",
    "from scipy.sparse.csgraph import shortest_path, connected_components"
   ]
  },
  {
   "cell_type": "markdown",
   "id": "44530a2e",
   "metadata": {},
   "source": [
    "## Finding islands in map\n",
    "\n",
    "### Ground truth computation using BFS, not good for parallization..."
   ]
  },
  {
   "cell_type": "code",
   "execution_count": 33,
   "id": "02a6061e",
   "metadata": {},
   "outputs": [],
   "source": [
    "directions = [(0, 1), (1, 0), (0, -1), (-1, 0)]\n",
    "\n",
    "def n_islands(int_map: np.ndarray):\n",
    "    h, w = int_map.shape\n",
    "    visited = np.zeros_like(int_map, dtype=bool)\n",
    "    \n",
    "    def in_bounds(pos, bounds):\n",
    "        return 0 <= pos[0] < h and 0 <= pos[1] < w\n",
    "    \n",
    "    def visit(i, j):\n",
    "        to_visit = deque()\n",
    "\n",
    "        visited[i, j] = True\n",
    "        to_visit.append((i, j))\n",
    "\n",
    "        while len(to_visit) > 0:\n",
    "            i, j = to_visit.popleft()\n",
    "            for di, dj in directions:\n",
    "                nb = i + di, j + dj\n",
    "                if in_bounds(nb, int_map.shape) and int_map[nb] and not visited[nb]:\n",
    "                    to_visit.append(nb)\n",
    "                    visited[nb] = True\n",
    "    \n",
    "    n_components = 0\n",
    "    for i, j in product(range(h), range(w)):\n",
    "        if int_map[i, j] and not visited[i, j]:\n",
    "            visit(i, j)\n",
    "            n_components += 1\n",
    "            \n",
    "    return n_components"
   ]
  },
  {
   "cell_type": "code",
   "execution_count": 35,
   "id": "f3c8b4a4",
   "metadata": {},
   "outputs": [
    {
     "data": {
      "text/plain": [
       "2"
      ]
     },
     "execution_count": 35,
     "metadata": {},
     "output_type": "execute_result"
    }
   ],
   "source": [
    "# int_map = jnp.asarray([\n",
    "#     [ 0, 0, 1, 1, 0 ],\n",
    "#     [ 1, 1, 0, 1, 0 ],\n",
    "#     [ 1, 1, 0, 0, 1 ],\n",
    "#     [ 0, 0, 0, 1, 1 ],\n",
    "#     [ 1, 1, 1, 0, 0 ],§\n",
    "# ])\n",
    "int_map = jnp.asarray([\n",
    "    [ 0, 0, 1 ],\n",
    "    [ 1, 1, 0 ],\n",
    "    [ 1, 1, 0 ]\n",
    "])\n",
    "\n",
    "n_islands(int_map)"
   ]
  },
  {
   "cell_type": "markdown",
   "id": "7744233a",
   "metadata": {},
   "source": [
    "### Using jax a diffusing the labels"
   ]
  },
  {
   "cell_type": "code",
   "execution_count": 68,
   "id": "a005c13a",
   "metadata": {},
   "outputs": [],
   "source": [
    "from functools import partial\n",
    "import jax\n",
    "import jax.numpy as jnp\n",
    "import jax.lax as lax\n",
    "\n",
    "from equinox.nn import Pool"
   ]
  },
  {
   "cell_type": "code",
   "execution_count": 76,
   "id": "0d2651c3",
   "metadata": {},
   "outputs": [
    {
     "name": "stdout",
     "output_type": "stream",
     "text": [
      "()\n",
      "()\n"
     ]
    },
    {
     "ename": "ValueError",
     "evalue": "reduce_window output must have the same tree structure as the operands PyTreeDef(*) vs. PyTreeDef(None)",
     "output_type": "error",
     "traceback": [
      "\u001b[0;31m---------------------------------------------------------------------------\u001b[0m",
      "\u001b[0;31mValueError\u001b[0m                                Traceback (most recent call last)",
      "Cell \u001b[0;32mIn[76], line 29\u001b[0m\n\u001b[1;32m     25\u001b[0m     diffused, _ \u001b[38;5;241m=\u001b[39m lax\u001b[38;5;241m.\u001b[39mscan(step, nodes, jnp\u001b[38;5;241m.\u001b[39marange(jnp\u001b[38;5;241m.\u001b[39msum(jnp\u001b[38;5;241m.\u001b[39masarray(int_map\u001b[38;5;241m.\u001b[39mshape))))\n\u001b[1;32m     27\u001b[0m     \u001b[38;5;28mprint\u001b[39m(diffused)\n\u001b[0;32m---> 29\u001b[0m \u001b[43mn_components_diffusion\u001b[49m\u001b[43m(\u001b[49m\u001b[43mint_map\u001b[49m\u001b[43m)\u001b[49m\n",
      "Cell \u001b[0;32mIn[76], line 25\u001b[0m, in \u001b[0;36mn_components_diffusion\u001b[0;34m(int_map)\u001b[0m\n\u001b[1;32m     22\u001b[0m \u001b[38;5;28;01mdef\u001b[39;00m \u001b[38;5;21mstep\u001b[39m(diff, _):\n\u001b[1;32m     23\u001b[0m     \u001b[38;5;28;01mreturn\u001b[39;00m pool(diff), \u001b[38;5;28;01mNone\u001b[39;00m\n\u001b[0;32m---> 25\u001b[0m diffused, _ \u001b[38;5;241m=\u001b[39m \u001b[43mlax\u001b[49m\u001b[38;5;241;43m.\u001b[39;49m\u001b[43mscan\u001b[49m\u001b[43m(\u001b[49m\u001b[43mstep\u001b[49m\u001b[43m,\u001b[49m\u001b[43m \u001b[49m\u001b[43mnodes\u001b[49m\u001b[43m,\u001b[49m\u001b[43m \u001b[49m\u001b[43mjnp\u001b[49m\u001b[38;5;241;43m.\u001b[39;49m\u001b[43marange\u001b[49m\u001b[43m(\u001b[49m\u001b[43mjnp\u001b[49m\u001b[38;5;241;43m.\u001b[39;49m\u001b[43msum\u001b[49m\u001b[43m(\u001b[49m\u001b[43mjnp\u001b[49m\u001b[38;5;241;43m.\u001b[39;49m\u001b[43masarray\u001b[49m\u001b[43m(\u001b[49m\u001b[43mint_map\u001b[49m\u001b[38;5;241;43m.\u001b[39;49m\u001b[43mshape\u001b[49m\u001b[43m)\u001b[49m\u001b[43m)\u001b[49m\u001b[43m)\u001b[49m\u001b[43m)\u001b[49m\n\u001b[1;32m     27\u001b[0m \u001b[38;5;28mprint\u001b[39m(diffused)\n",
      "    \u001b[0;31m[... skipping hidden 9 frame]\u001b[0m\n",
      "Cell \u001b[0;32mIn[76], line 23\u001b[0m, in \u001b[0;36mn_components_diffusion.<locals>.step\u001b[0;34m(diff, _)\u001b[0m\n\u001b[1;32m     22\u001b[0m \u001b[38;5;28;01mdef\u001b[39;00m \u001b[38;5;21mstep\u001b[39m(diff, _):\n\u001b[0;32m---> 23\u001b[0m     \u001b[38;5;28;01mreturn\u001b[39;00m \u001b[43mpool\u001b[49m\u001b[43m(\u001b[49m\u001b[43mdiff\u001b[49m\u001b[43m)\u001b[49m, \u001b[38;5;28;01mNone\u001b[39;00m\n",
      "File \u001b[0;32m~/.local/bin/pyenv/versions/growjax/lib/python3.8/site-packages/equinox/nn/_pool.py:146\u001b[0m, in \u001b[0;36mPool.__call__\u001b[0;34m(self, x, key)\u001b[0m\n\u001b[1;32m    144\u001b[0m x \u001b[38;5;241m=\u001b[39m jnp\u001b[38;5;241m.\u001b[39mmoveaxis(x, \u001b[38;5;241m0\u001b[39m, \u001b[38;5;241m-\u001b[39m\u001b[38;5;241m1\u001b[39m)\n\u001b[1;32m    145\u001b[0m x \u001b[38;5;241m=\u001b[39m jnp\u001b[38;5;241m.\u001b[39mexpand_dims(x, axis\u001b[38;5;241m=\u001b[39m\u001b[38;5;241m0\u001b[39m)\n\u001b[0;32m--> 146\u001b[0m x \u001b[38;5;241m=\u001b[39m \u001b[43mlax\u001b[49m\u001b[38;5;241;43m.\u001b[39;49m\u001b[43mreduce_window\u001b[49m\u001b[43m(\u001b[49m\n\u001b[1;32m    147\u001b[0m \u001b[43m    \u001b[49m\u001b[43mx\u001b[49m\u001b[43m,\u001b[49m\n\u001b[1;32m    148\u001b[0m \u001b[43m    \u001b[49m\u001b[38;5;28;43mself\u001b[39;49m\u001b[38;5;241;43m.\u001b[39;49m\u001b[43minit\u001b[49m\u001b[43m,\u001b[49m\n\u001b[1;32m    149\u001b[0m \u001b[43m    \u001b[49m\u001b[38;5;28;43mself\u001b[39;49m\u001b[38;5;241;43m.\u001b[39;49m\u001b[43moperation\u001b[49m\u001b[43m,\u001b[49m\n\u001b[1;32m    150\u001b[0m \u001b[43m    \u001b[49m\u001b[43m(\u001b[49m\u001b[38;5;241;43m1\u001b[39;49m\u001b[43m,\u001b[49m\u001b[43m)\u001b[49m\u001b[43m \u001b[49m\u001b[38;5;241;43m+\u001b[39;49m\u001b[43m \u001b[49m\u001b[38;5;28;43mself\u001b[39;49m\u001b[38;5;241;43m.\u001b[39;49m\u001b[43mkernel_size\u001b[49m\u001b[43m \u001b[49m\u001b[38;5;241;43m+\u001b[39;49m\u001b[43m \u001b[49m\u001b[43m(\u001b[49m\u001b[38;5;241;43m1\u001b[39;49m\u001b[43m,\u001b[49m\u001b[43m)\u001b[49m\u001b[43m,\u001b[49m\n\u001b[1;32m    151\u001b[0m \u001b[43m    \u001b[49m\u001b[43m(\u001b[49m\u001b[38;5;241;43m1\u001b[39;49m\u001b[43m,\u001b[49m\u001b[43m)\u001b[49m\u001b[43m \u001b[49m\u001b[38;5;241;43m+\u001b[39;49m\u001b[43m \u001b[49m\u001b[38;5;28;43mself\u001b[39;49m\u001b[38;5;241;43m.\u001b[39;49m\u001b[43mstride\u001b[49m\u001b[43m \u001b[49m\u001b[38;5;241;43m+\u001b[39;49m\u001b[43m \u001b[49m\u001b[43m(\u001b[49m\u001b[38;5;241;43m1\u001b[39;49m\u001b[43m,\u001b[49m\u001b[43m)\u001b[49m\u001b[43m,\u001b[49m\n\u001b[1;32m    152\u001b[0m \u001b[43m    \u001b[49m\u001b[43m(\u001b[49m\u001b[43m(\u001b[49m\u001b[38;5;241;43m0\u001b[39;49m\u001b[43m,\u001b[49m\u001b[43m \u001b[49m\u001b[38;5;241;43m0\u001b[39;49m\u001b[43m)\u001b[49m\u001b[43m,\u001b[49m\u001b[43m)\u001b[49m\u001b[43m \u001b[49m\u001b[38;5;241;43m+\u001b[39;49m\u001b[43m \u001b[49m\u001b[43mpadding\u001b[49m\u001b[43m \u001b[49m\u001b[38;5;241;43m+\u001b[39;49m\u001b[43m \u001b[49m\u001b[43m(\u001b[49m\u001b[43m(\u001b[49m\u001b[38;5;241;43m0\u001b[39;49m\u001b[43m,\u001b[49m\u001b[43m \u001b[49m\u001b[38;5;241;43m0\u001b[39;49m\u001b[43m)\u001b[49m\u001b[43m,\u001b[49m\u001b[43m)\u001b[49m\u001b[43m,\u001b[49m\n\u001b[1;32m    153\u001b[0m \u001b[43m\u001b[49m\u001b[43m)\u001b[49m\n\u001b[1;32m    155\u001b[0m x \u001b[38;5;241m=\u001b[39m jnp\u001b[38;5;241m.\u001b[39msqueeze(x, axis\u001b[38;5;241m=\u001b[39m\u001b[38;5;241m0\u001b[39m)\n\u001b[1;32m    156\u001b[0m x \u001b[38;5;241m=\u001b[39m jnp\u001b[38;5;241m.\u001b[39mmoveaxis(x, \u001b[38;5;241m-\u001b[39m\u001b[38;5;241m1\u001b[39m, \u001b[38;5;241m0\u001b[39m)\n",
      "File \u001b[0;32m~/.local/bin/pyenv/versions/growjax/lib/python3.8/site-packages/jax/_src/lax/windowed_reductions.py:85\u001b[0m, in \u001b[0;36mreduce_window\u001b[0;34m(operand, init_value, computation, window_dimensions, window_strides, padding, base_dilation, window_dilation)\u001b[0m\n\u001b[1;32m     82\u001b[0m jaxpr, consts, out_tree \u001b[38;5;241m=\u001b[39m lax\u001b[38;5;241m.\u001b[39m_variadic_reduction_jaxpr(\n\u001b[1;32m     83\u001b[0m     computation, \u001b[38;5;28mtuple\u001b[39m(flat_init_avals), init_value_tree)\n\u001b[1;32m     84\u001b[0m \u001b[38;5;28;01mif\u001b[39;00m operand_tree \u001b[38;5;241m!=\u001b[39m out_tree:\n\u001b[0;32m---> 85\u001b[0m   \u001b[38;5;28;01mraise\u001b[39;00m \u001b[38;5;167;01mValueError\u001b[39;00m(\n\u001b[1;32m     86\u001b[0m     \u001b[38;5;124m'\u001b[39m\u001b[38;5;124mreduce_window output must have the same tree structure as the operands\u001b[39m\u001b[38;5;124m'\u001b[39m\n\u001b[1;32m     87\u001b[0m     \u001b[38;5;124mf\u001b[39m\u001b[38;5;124m'\u001b[39m\u001b[38;5;124m \u001b[39m\u001b[38;5;132;01m{\u001b[39;00moperand_tree\u001b[38;5;132;01m}\u001b[39;00m\u001b[38;5;124m vs. \u001b[39m\u001b[38;5;132;01m{\u001b[39;00mout_tree\u001b[38;5;132;01m}\u001b[39;00m\u001b[38;5;124m'\u001b[39m)\n\u001b[1;32m     88\u001b[0m out_flat \u001b[38;5;241m=\u001b[39m reduce_window_p\u001b[38;5;241m.\u001b[39mbind(\n\u001b[1;32m     89\u001b[0m     \u001b[38;5;241m*\u001b[39mflat_operands, \u001b[38;5;241m*\u001b[39mflat_init_values, jaxpr\u001b[38;5;241m=\u001b[39mjaxpr, consts\u001b[38;5;241m=\u001b[39mconsts,\n\u001b[1;32m     90\u001b[0m     window_dimensions\u001b[38;5;241m=\u001b[39m\u001b[38;5;28mtuple\u001b[39m(window_dimensions),\n\u001b[1;32m     91\u001b[0m     window_strides\u001b[38;5;241m=\u001b[39m\u001b[38;5;28mtuple\u001b[39m(window_strides), padding\u001b[38;5;241m=\u001b[39mpadding,\n\u001b[1;32m     92\u001b[0m     base_dilation\u001b[38;5;241m=\u001b[39m\u001b[38;5;28mtuple\u001b[39m(base_dilation),\n\u001b[1;32m     93\u001b[0m     window_dilation\u001b[38;5;241m=\u001b[39m\u001b[38;5;28mtuple\u001b[39m(window_dilation))\n\u001b[1;32m     94\u001b[0m \u001b[38;5;28;01mreturn\u001b[39;00m tree_util\u001b[38;5;241m.\u001b[39mtree_unflatten(out_tree, out_flat)\n",
      "\u001b[0;31mValueError\u001b[0m: reduce_window output must have the same tree structure as the operands PyTreeDef(*) vs. PyTreeDef(None)"
     ]
    }
   ],
   "source": [
    "# _conv2d = partial(jax.scipy.signal.convolve2d, mode='same', boundary='fill', fillvalue=0)\n",
    "manhattan_kernel = jnp.array([\n",
    "            [0.0, 1.0, 0.0],\n",
    "            [1.0, 1.0, 1.0],\n",
    "            [0.0, 1.0, 0.0]\n",
    "        ])\n",
    "\n",
    "\n",
    "def manhattan_max(x, y):\n",
    "    print(x.shape)\n",
    "    print(y.shape)\n",
    "    jax.debug.print(\"{x}, {y}\", x=x, y=y)\n",
    "    \n",
    "\n",
    "pool = Pool(0, manhattan_max, 2, (3, 3), (1, 1), (1, 1))\n",
    "\n",
    "def n_components_diffusion(int_map):\n",
    "    nodes = jnp.arange(1, jnp.prod(jnp.asarray(int_map.shape)) + 1, dtype=jnp.float32).reshape(int_map.shape)\n",
    "    nodes = (nodes * int_map)[None]\n",
    "\n",
    "    \n",
    "    def step(diff, _):\n",
    "        return pool(diff), None\n",
    "    \n",
    "    diffused, _ = lax.scan(step, nodes, jnp.arange(jnp.sum(jnp.asarray(int_map.shape))))\n",
    "    \n",
    "    print(diffused)\n",
    "    \n",
    "n_components_diffusion(int_map)"
   ]
  }
 ],
 "metadata": {
  "kernelspec": {
   "display_name": "Python 3 (ipykernel)",
   "language": "python",
   "name": "python3"
  },
  "language_info": {
   "codemirror_mode": {
    "name": "ipython",
    "version": 3
   },
   "file_extension": ".py",
   "mimetype": "text/x-python",
   "name": "python",
   "nbconvert_exporter": "python",
   "pygments_lexer": "ipython3",
   "version": "3.8.16"
  }
 },
 "nbformat": 4,
 "nbformat_minor": 5
}
